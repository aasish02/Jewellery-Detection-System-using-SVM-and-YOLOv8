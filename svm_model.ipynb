{
  "nbformat": 4,
  "nbformat_minor": 0,
  "metadata": {
    "colab": {
      "provenance": []
    },
    "kernelspec": {
      "name": "python3",
      "display_name": "Python 3"
    },
    "language_info": {
      "name": "python"
    }
  },
  "cells": [
    {
      "cell_type": "code",
      "source": [
        "import zipfile\n",
        "zip_ref = zipfile.ZipFile('dataset.zip', 'r')\n",
        "zip_ref.extractall('')\n",
        "zip_ref.close()"
      ],
      "metadata": {
        "id": "k4LDR-9hkwz0"
      },
      "execution_count": null,
      "outputs": []
    },
    {
      "cell_type": "code",
      "execution_count": null,
      "metadata": {
        "id": "lJmbvODCgMJS"
      },
      "outputs": [],
      "source": [
        "import os\n",
        "import cv2\n",
        "\n",
        "def load_dataset(dataset_path):\n",
        "    data = []\n",
        "    labels = []\n",
        "    for class_name in os.listdir(dataset_path):\n",
        "        class_path = os.path.join(dataset_path, class_name)\n",
        "        if os.path.isdir(class_path):\n",
        "            for image_name in os.listdir(class_path):\n",
        "                image_path = os.path.join(class_path, image_name)\n",
        "                image = cv2.imread(image_path)\n",
        "                if image is not None:\n",
        "                    data.append(image)\n",
        "                    labels.append(class_name)\n",
        "    return data, labels\n",
        "\n",
        "# Load training dataset\n",
        "train_dataset_path = 'training_dataset_folder_path'\n",
        "train_data, train_labels = load_dataset(train_dataset_path)\n",
        "\n",
        "# Load validation dataset\n",
        "val_dataset_path = 'validation_dataset_folder_path'\n",
        "val_data, val_labels = load_dataset(val_dataset_path)\n"
      ]
    },
    {
      "cell_type": "code",
      "source": [
        "from skimage.feature import hog\n",
        "import numpy as np\n",
        "\n",
        "def extract_hog_features(image):\n",
        "    gray_image = cv2.cvtColor(resized_image, cv2.COLOR_BGR2GRAY)\n",
        "    features = hog(gray_image, orientations=9, pixels_per_cell=(8, 8),\n",
        "                   cells_per_block=(2, 2), block_norm='L2-Hys')\n",
        "\n",
        "    return features\n",
        "# Extract HOG features for training data\n",
        "train_features = [extract_hog_features(image) for image in train_data]\n",
        "\n",
        "# Extract HOG features for validation data\n",
        "val_features = [extract_hog_features(image) for image in val_data]\n"
      ],
      "metadata": {
        "id": "wI1bjMxljUMs"
      },
      "execution_count": null,
      "outputs": []
    },
    {
      "cell_type": "code",
      "source": [
        "from sklearn.svm import SVC\n",
        "\n",
        "# Initialize SVM classifier\n",
        "svm_classifier = SVC(kernel='linear')\n",
        "\n",
        "# Train the SVM classifier\n",
        "svm_classifier.fit(train_features, train_labels)\n"
      ],
      "metadata": {
        "id": "-8fQfH93jXjN"
      },
      "execution_count": null,
      "outputs": []
    },
    {
      "cell_type": "code",
      "source": [
        "from sklearn.metrics import accuracy_score, classification_report\n",
        "\n",
        "# Make predictions on validation set\n",
        "val_predictions = svm_classifier.predict(val_features)\n",
        "\n",
        "# Evaluate performance\n",
        "val_accuracy = accuracy_score(val_labels, val_predictions)\n",
        "val_report = classification_report(val_labels, val_predictions)\n",
        "\n",
        "print(\"Validation Accuracy:\", val_accuracy)\n",
        "print(\"Validation Classification Report:\\n\", val_report)\n"
      ],
      "metadata": {
        "id": "yjmjb1Gdjgl3"
      },
      "execution_count": null,
      "outputs": []
    },
    {
      "cell_type": "code",
      "source": [
        "import joblib\n",
        "\n",
        "# Save the trained classifier to a file\n",
        "joblib.dump(svm_classifier, 'svm_classifier.pkl')\n"
      ],
      "metadata": {
        "colab": {
          "base_uri": "https://localhost:8080/"
        },
        "id": "gobVefxajnCS",
        "outputId": "ebacb257-e5e9-4486-c8f7-cdb53e60b734"
      },
      "execution_count": null,
      "outputs": [
        {
          "output_type": "execute_result",
          "data": {
            "text/plain": [
              "['svm_classifier.pkl']"
            ]
          },
          "metadata": {},
          "execution_count": 7
        }
      ]
    },
    {
      "cell_type": "code",
      "source": [
        "# Print validation accuracy\n",
        "print(\"Validation Accuracy:\", val_accuracy)\n",
        "\n",
        "# Print validation classification report\n",
        "print(\"Validation Classification Report:\\n\", val_report)\n"
      ],
      "metadata": {
        "id": "HszSwUJ8jyHp"
      },
      "execution_count": null,
      "outputs": []
    },
    {
      "cell_type": "code",
      "source": [
        "zip_ref = zipfile.ZipFile('coins.zip', 'r')\n",
        "zip_ref.extractall('')\n",
        "zip_ref.close()"
      ],
      "metadata": {
        "id": "jLrT53yIf3kR"
      },
      "execution_count": null,
      "outputs": []
    },
    {
      "cell_type": "code",
      "source": [
        "def classify_image(image_path):\n",
        "    # Load the uploaded image\n",
        "    image = cv2.imread(image_path)\n",
        "    if image is None:\n",
        "        print(\"Error: Unable to load the image.\")\n",
        "        return\n",
        "\n",
        "    # Extract HOG features from the image\n",
        "    image_features = extract_hog_features(image)\n",
        "\n",
        "    # Predict the class label using the trained SVM classifier\n",
        "    predicted_label = svm_classifier.predict([image_features])\n",
        "\n",
        "    # Print the predicted label\n",
        "    print(\"Predicted Label:\", predicted_label[0])\n",
        "\n",
        "# Example usage:\n",
        "image_path = 'image_path'\n",
        "classify_image(image_path)\n",
        "import os\n",
        "import cv2\n",
        "\n",
        "def classify_images_in_folder(folder_path):\n",
        "    # Check if the folder exists\n",
        "    if not os.path.exists(folder_path):\n",
        "        print(\"Error: Folder not found.\")\n",
        "        return\n",
        "\n",
        "    # Iterate over all files in the folder\n",
        "    for filename in os.listdir(folder_path):\n",
        "        # Check if the file is an image\n",
        "        if filename.endswith(('.jpg', '.jpeg', '.png', '.bmp')):\n",
        "            # Construct the full path to the image file\n",
        "            image_path = os.path.join(folder_path, filename)\n",
        "\n",
        "            # Load the image\n",
        "            image = cv2.imread(image_path)\n",
        "            if image is None:\n",
        "                print(f\"Error: Unable to load the image '{filename}'.\")\n",
        "                continue\n",
        "\n",
        "            # Extract HOG features from the image\n",
        "            image_features = extract_hog_features(image)\n",
        "\n",
        "            # Predict the class label using the trained SVM classifier\n",
        "            predicted_label = svm_classifier.predict([image_features])\n",
        "\n",
        "            # Print the predicted label\n",
        "            print(f\"Image '{filename}' - Predicted Label: {predicted_label[0]}\")\n",
        "\n",
        "# Example usage:\n",
        "folder_path = 'folder_path'\n",
        "classify_images_in_folder(folder_path)\n"
      ],
      "metadata": {
        "id": "4zsUhfdEm1ie"
      },
      "execution_count": null,
      "outputs": []
    }
  ]
}